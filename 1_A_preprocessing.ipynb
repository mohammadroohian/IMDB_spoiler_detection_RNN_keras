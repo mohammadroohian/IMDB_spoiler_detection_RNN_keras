{
 "cells": [
  {
   "cell_type": "code",
   "execution_count": 1,
   "metadata": {},
   "outputs": [],
   "source": [
    "import _utils.helper as hlp\n",
    "import pandas as pd\n",
    "import numpy as np\n",
    "import matplotlib.pyplot as plt\n",
    "from datetime import datetime"
   ]
  },
  {
   "cell_type": "markdown",
   "metadata": {},
   "source": [
    "## load reviews"
   ]
  },
  {
   "cell_type": "code",
   "execution_count": 2,
   "metadata": {},
   "outputs": [
    {
     "data": {
      "text/html": "<div>\n<style scoped>\n    .dataframe tbody tr th:only-of-type {\n        vertical-align: middle;\n    }\n\n    .dataframe tbody tr th {\n        vertical-align: top;\n    }\n\n    .dataframe thead th {\n        text-align: right;\n    }\n</style>\n<table border=\"1\" class=\"dataframe\">\n  <thead>\n    <tr style=\"text-align: right;\">\n      <th></th>\n      <th>review_date</th>\n      <th>movie_id</th>\n      <th>user_id</th>\n      <th>is_spoiler</th>\n      <th>review_text</th>\n      <th>rating</th>\n      <th>review_summary</th>\n      <th>plot_summary</th>\n      <th>duration</th>\n      <th>genre</th>\n      <th>...</th>\n      <th>horror</th>\n      <th>music</th>\n      <th>musical</th>\n      <th>mystery</th>\n      <th>romance</th>\n      <th>sci-fi</th>\n      <th>sport</th>\n      <th>thriller</th>\n      <th>war</th>\n      <th>western</th>\n    </tr>\n  </thead>\n  <tbody>\n    <tr>\n      <th>0</th>\n      <td>10 February 2006</td>\n      <td>tt0111161</td>\n      <td>ur1898687</td>\n      <td>1</td>\n      <td>In its Oscar year, Shawshank Redemption (writt...</td>\n      <td>10</td>\n      <td>A classic piece of unforgettable film-making.</td>\n      <td>Chronicles the experiences of a formerly succe...</td>\n      <td>2h 22min</td>\n      <td>[Crime, Drama]</td>\n      <td>...</td>\n      <td>0</td>\n      <td>0</td>\n      <td>0</td>\n      <td>0</td>\n      <td>0</td>\n      <td>0</td>\n      <td>0</td>\n      <td>0</td>\n      <td>0</td>\n      <td>0</td>\n    </tr>\n    <tr>\n      <th>1</th>\n      <td>6 September 2000</td>\n      <td>tt0111161</td>\n      <td>ur0842118</td>\n      <td>1</td>\n      <td>The Shawshank Redemption is without a doubt on...</td>\n      <td>10</td>\n      <td>Simply amazing. The best film of the 90's.</td>\n      <td>Chronicles the experiences of a formerly succe...</td>\n      <td>2h 22min</td>\n      <td>[Crime, Drama]</td>\n      <td>...</td>\n      <td>0</td>\n      <td>0</td>\n      <td>0</td>\n      <td>0</td>\n      <td>0</td>\n      <td>0</td>\n      <td>0</td>\n      <td>0</td>\n      <td>0</td>\n      <td>0</td>\n    </tr>\n    <tr>\n      <th>2</th>\n      <td>3 August 2001</td>\n      <td>tt0111161</td>\n      <td>ur1285640</td>\n      <td>1</td>\n      <td>I believe that this film is the best story eve...</td>\n      <td>8</td>\n      <td>The best story ever told on film</td>\n      <td>Chronicles the experiences of a formerly succe...</td>\n      <td>2h 22min</td>\n      <td>[Crime, Drama]</td>\n      <td>...</td>\n      <td>0</td>\n      <td>0</td>\n      <td>0</td>\n      <td>0</td>\n      <td>0</td>\n      <td>0</td>\n      <td>0</td>\n      <td>0</td>\n      <td>0</td>\n      <td>0</td>\n    </tr>\n    <tr>\n      <th>3</th>\n      <td>1 September 2002</td>\n      <td>tt0111161</td>\n      <td>ur1003471</td>\n      <td>1</td>\n      <td>**Yes, there are SPOILERS here**This film has ...</td>\n      <td>10</td>\n      <td>Busy dying or busy living?</td>\n      <td>Chronicles the experiences of a formerly succe...</td>\n      <td>2h 22min</td>\n      <td>[Crime, Drama]</td>\n      <td>...</td>\n      <td>0</td>\n      <td>0</td>\n      <td>0</td>\n      <td>0</td>\n      <td>0</td>\n      <td>0</td>\n      <td>0</td>\n      <td>0</td>\n      <td>0</td>\n      <td>0</td>\n    </tr>\n    <tr>\n      <th>4</th>\n      <td>20 May 2004</td>\n      <td>tt0111161</td>\n      <td>ur0226855</td>\n      <td>1</td>\n      <td>At the heart of this extraordinary movie is a ...</td>\n      <td>8</td>\n      <td>Great story, wondrously told and acted</td>\n      <td>Chronicles the experiences of a formerly succe...</td>\n      <td>2h 22min</td>\n      <td>[Crime, Drama]</td>\n      <td>...</td>\n      <td>0</td>\n      <td>0</td>\n      <td>0</td>\n      <td>0</td>\n      <td>0</td>\n      <td>0</td>\n      <td>0</td>\n      <td>0</td>\n      <td>0</td>\n      <td>0</td>\n    </tr>\n    <tr>\n      <th>...</th>\n      <td>...</td>\n      <td>...</td>\n      <td>...</td>\n      <td>...</td>\n      <td>...</td>\n      <td>...</td>\n      <td>...</td>\n      <td>...</td>\n      <td>...</td>\n      <td>...</td>\n      <td>...</td>\n      <td>...</td>\n      <td>...</td>\n      <td>...</td>\n      <td>...</td>\n      <td>...</td>\n      <td>...</td>\n      <td>...</td>\n      <td>...</td>\n      <td>...</td>\n      <td>...</td>\n    </tr>\n    <tr>\n      <th>573901</th>\n      <td>8 August 1999</td>\n      <td>tt0139239</td>\n      <td>ur0100166</td>\n      <td>0</td>\n      <td>Go is wise, fast and pure entertainment. Assem...</td>\n      <td>10</td>\n      <td>The best teen movie of the nineties</td>\n      <td>Told from three perspectives, a story of a bun...</td>\n      <td>1h 42min</td>\n      <td>[Comedy, Crime]</td>\n      <td>...</td>\n      <td>0</td>\n      <td>0</td>\n      <td>0</td>\n      <td>0</td>\n      <td>0</td>\n      <td>0</td>\n      <td>0</td>\n      <td>0</td>\n      <td>0</td>\n      <td>0</td>\n    </tr>\n    <tr>\n      <th>573902</th>\n      <td>31 July 1999</td>\n      <td>tt0139239</td>\n      <td>ur0021767</td>\n      <td>0</td>\n      <td>Well, what shall I say. this one´s fun at any ...</td>\n      <td>9</td>\n      <td>Go - see the movie</td>\n      <td>Told from three perspectives, a story of a bun...</td>\n      <td>1h 42min</td>\n      <td>[Comedy, Crime]</td>\n      <td>...</td>\n      <td>0</td>\n      <td>0</td>\n      <td>0</td>\n      <td>0</td>\n      <td>0</td>\n      <td>0</td>\n      <td>0</td>\n      <td>0</td>\n      <td>0</td>\n      <td>0</td>\n    </tr>\n    <tr>\n      <th>573903</th>\n      <td>20 July 1999</td>\n      <td>tt0139239</td>\n      <td>ur0392750</td>\n      <td>0</td>\n      <td>Go is the best movie I have ever seen, and I'v...</td>\n      <td>10</td>\n      <td>It's the best movie I've ever seen</td>\n      <td>Told from three perspectives, a story of a bun...</td>\n      <td>1h 42min</td>\n      <td>[Comedy, Crime]</td>\n      <td>...</td>\n      <td>0</td>\n      <td>0</td>\n      <td>0</td>\n      <td>0</td>\n      <td>0</td>\n      <td>0</td>\n      <td>0</td>\n      <td>0</td>\n      <td>0</td>\n      <td>0</td>\n    </tr>\n    <tr>\n      <th>573904</th>\n      <td>11 June 1999</td>\n      <td>tt0139239</td>\n      <td>ur0349105</td>\n      <td>0</td>\n      <td>Call this 1999 teenage version of Pulp Fiction...</td>\n      <td>3</td>\n      <td>Haven't we seen this before?</td>\n      <td>Told from three perspectives, a story of a bun...</td>\n      <td>1h 42min</td>\n      <td>[Comedy, Crime]</td>\n      <td>...</td>\n      <td>0</td>\n      <td>0</td>\n      <td>0</td>\n      <td>0</td>\n      <td>0</td>\n      <td>0</td>\n      <td>0</td>\n      <td>0</td>\n      <td>0</td>\n      <td>0</td>\n    </tr>\n    <tr>\n      <th>573905</th>\n      <td>3 May 1999</td>\n      <td>tt0139239</td>\n      <td>ur0156431</td>\n      <td>0</td>\n      <td>Why was this movie made? No doubt to sucker in...</td>\n      <td>2</td>\n      <td>Go doesn't go anywhere</td>\n      <td>Told from three perspectives, a story of a bun...</td>\n      <td>1h 42min</td>\n      <td>[Comedy, Crime]</td>\n      <td>...</td>\n      <td>0</td>\n      <td>0</td>\n      <td>0</td>\n      <td>0</td>\n      <td>0</td>\n      <td>0</td>\n      <td>0</td>\n      <td>0</td>\n      <td>0</td>\n      <td>0</td>\n    </tr>\n  </tbody>\n</table>\n<p>573906 rows × 34 columns</p>\n</div>",
      "text/plain": "             review_date   movie_id    user_id  is_spoiler  \\\n0       10 February 2006  tt0111161  ur1898687           1   \n1       6 September 2000  tt0111161  ur0842118           1   \n2          3 August 2001  tt0111161  ur1285640           1   \n3       1 September 2002  tt0111161  ur1003471           1   \n4            20 May 2004  tt0111161  ur0226855           1   \n...                  ...        ...        ...         ...   \n573901     8 August 1999  tt0139239  ur0100166           0   \n573902      31 July 1999  tt0139239  ur0021767           0   \n573903      20 July 1999  tt0139239  ur0392750           0   \n573904      11 June 1999  tt0139239  ur0349105           0   \n573905        3 May 1999  tt0139239  ur0156431           0   \n\n                                              review_text  rating  \\\n0       In its Oscar year, Shawshank Redemption (writt...      10   \n1       The Shawshank Redemption is without a doubt on...      10   \n2       I believe that this film is the best story eve...       8   \n3       **Yes, there are SPOILERS here**This film has ...      10   \n4       At the heart of this extraordinary movie is a ...       8   \n...                                                   ...     ...   \n573901  Go is wise, fast and pure entertainment. Assem...      10   \n573902  Well, what shall I say. this one´s fun at any ...       9   \n573903  Go is the best movie I have ever seen, and I'v...      10   \n573904  Call this 1999 teenage version of Pulp Fiction...       3   \n573905  Why was this movie made? No doubt to sucker in...       2   \n\n                                       review_summary  \\\n0       A classic piece of unforgettable film-making.   \n1          Simply amazing. The best film of the 90's.   \n2                    The best story ever told on film   \n3                          Busy dying or busy living?   \n4              Great story, wondrously told and acted   \n...                                               ...   \n573901            The best teen movie of the nineties   \n573902                             Go - see the movie   \n573903             It's the best movie I've ever seen   \n573904                   Haven't we seen this before?   \n573905                         Go doesn't go anywhere   \n\n                                             plot_summary  duration  \\\n0       Chronicles the experiences of a formerly succe...  2h 22min   \n1       Chronicles the experiences of a formerly succe...  2h 22min   \n2       Chronicles the experiences of a formerly succe...  2h 22min   \n3       Chronicles the experiences of a formerly succe...  2h 22min   \n4       Chronicles the experiences of a formerly succe...  2h 22min   \n...                                                   ...       ...   \n573901  Told from three perspectives, a story of a bun...  1h 42min   \n573902  Told from three perspectives, a story of a bun...  1h 42min   \n573903  Told from three perspectives, a story of a bun...  1h 42min   \n573904  Told from three perspectives, a story of a bun...  1h 42min   \n573905  Told from three perspectives, a story of a bun...  1h 42min   \n\n                  genre  ... horror music  musical  mystery  romance  sci-fi  \\\n0        [Crime, Drama]  ...      0     0        0        0        0       0   \n1        [Crime, Drama]  ...      0     0        0        0        0       0   \n2        [Crime, Drama]  ...      0     0        0        0        0       0   \n3        [Crime, Drama]  ...      0     0        0        0        0       0   \n4        [Crime, Drama]  ...      0     0        0        0        0       0   \n...                 ...  ...    ...   ...      ...      ...      ...     ...   \n573901  [Comedy, Crime]  ...      0     0        0        0        0       0   \n573902  [Comedy, Crime]  ...      0     0        0        0        0       0   \n573903  [Comedy, Crime]  ...      0     0        0        0        0       0   \n573904  [Comedy, Crime]  ...      0     0        0        0        0       0   \n573905  [Comedy, Crime]  ...      0     0        0        0        0       0   \n\n        sport  thriller  war  western  \n0           0         0    0        0  \n1           0         0    0        0  \n2           0         0    0        0  \n3           0         0    0        0  \n4           0         0    0        0  \n...       ...       ...  ...      ...  \n573901      0         0    0        0  \n573902      0         0    0        0  \n573903      0         0    0        0  \n573904      0         0    0        0  \n573905      0         0    0        0  \n\n[573906 rows x 34 columns]"
     },
     "execution_count": 2,
     "metadata": {},
     "output_type": "execute_result"
    }
   ],
   "source": [
    "df_reviews = hlp.load('./imported_data/imported_data')\n",
    "df_reviews"
   ]
  },
  {
   "cell_type": "markdown",
   "metadata": {},
   "source": [
    "## get subset of reviews | just action genre"
   ]
  },
  {
   "cell_type": "code",
   "execution_count": 3,
   "metadata": {},
   "outputs": [
    {
     "data": {
      "text/plain": "Index(['review_date', 'movie_id', 'user_id', 'is_spoiler', 'review_text',\n       'rating', 'review_summary', 'plot_summary', 'duration', 'genre',\n       'release_date', 'plot_synopsis', 'post_id', 'action', 'adventure',\n       'animation', 'biography', 'comedy', 'crime', 'drama', 'family',\n       'fantasy', 'film-noir', 'history', 'horror', 'music', 'musical',\n       'mystery', 'romance', 'sci-fi', 'sport', 'thriller', 'war', 'western'],\n      dtype='object')"
     },
     "execution_count": 3,
     "metadata": {},
     "output_type": "execute_result"
    }
   ],
   "source": [
    "df_reviews.columns"
   ]
  },
  {
   "cell_type": "code",
   "execution_count": 3,
   "metadata": {},
   "outputs": [
    {
     "data": {
      "text/html": "<div>\n<style scoped>\n    .dataframe tbody tr th:only-of-type {\n        vertical-align: middle;\n    }\n\n    .dataframe tbody tr th {\n        vertical-align: top;\n    }\n\n    .dataframe thead th {\n        text-align: right;\n    }\n</style>\n<table border=\"1\" class=\"dataframe\">\n  <thead>\n    <tr style=\"text-align: right;\">\n      <th></th>\n      <th>post_id</th>\n      <th>review_text</th>\n      <th>is_spoiler</th>\n    </tr>\n  </thead>\n  <tbody>\n    <tr>\n      <th>0</th>\n      <td>1000000</td>\n      <td>In its Oscar year, Shawshank Redemption (writt...</td>\n      <td>1</td>\n    </tr>\n    <tr>\n      <th>1</th>\n      <td>1000001</td>\n      <td>The Shawshank Redemption is without a doubt on...</td>\n      <td>1</td>\n    </tr>\n    <tr>\n      <th>2</th>\n      <td>1000002</td>\n      <td>I believe that this film is the best story eve...</td>\n      <td>1</td>\n    </tr>\n    <tr>\n      <th>3</th>\n      <td>1000003</td>\n      <td>**Yes, there are SPOILERS here**This film has ...</td>\n      <td>1</td>\n    </tr>\n    <tr>\n      <th>4</th>\n      <td>1000004</td>\n      <td>At the heart of this extraordinary movie is a ...</td>\n      <td>1</td>\n    </tr>\n    <tr>\n      <th>...</th>\n      <td>...</td>\n      <td>...</td>\n      <td>...</td>\n    </tr>\n    <tr>\n      <th>573901</th>\n      <td>1573901</td>\n      <td>Go is wise, fast and pure entertainment. Assem...</td>\n      <td>0</td>\n    </tr>\n    <tr>\n      <th>573902</th>\n      <td>1573902</td>\n      <td>Well, what shall I say. this one´s fun at any ...</td>\n      <td>0</td>\n    </tr>\n    <tr>\n      <th>573903</th>\n      <td>1573903</td>\n      <td>Go is the best movie I have ever seen, and I'v...</td>\n      <td>0</td>\n    </tr>\n    <tr>\n      <th>573904</th>\n      <td>1573904</td>\n      <td>Call this 1999 teenage version of Pulp Fiction...</td>\n      <td>0</td>\n    </tr>\n    <tr>\n      <th>573905</th>\n      <td>1573905</td>\n      <td>Why was this movie made? No doubt to sucker in...</td>\n      <td>0</td>\n    </tr>\n  </tbody>\n</table>\n<p>573906 rows × 3 columns</p>\n</div>",
      "text/plain": "        post_id                                        review_text  is_spoiler\n0       1000000  In its Oscar year, Shawshank Redemption (writt...           1\n1       1000001  The Shawshank Redemption is without a doubt on...           1\n2       1000002  I believe that this film is the best story eve...           1\n3       1000003  **Yes, there are SPOILERS here**This film has ...           1\n4       1000004  At the heart of this extraordinary movie is a ...           1\n...         ...                                                ...         ...\n573901  1573901  Go is wise, fast and pure entertainment. Assem...           0\n573902  1573902  Well, what shall I say. this one´s fun at any ...           0\n573903  1573903  Go is the best movie I have ever seen, and I'v...           0\n573904  1573904  Call this 1999 teenage version of Pulp Fiction...           0\n573905  1573905  Why was this movie made? No doubt to sucker in...           0\n\n[573906 rows x 3 columns]"
     },
     "execution_count": 3,
     "metadata": {},
     "output_type": "execute_result"
    }
   ],
   "source": [
    "#df_reviews = df_reviews.loc[df_reviews['action'] == 1]\n",
    "df_reviews = df_reviews.filter(['post_id', 'review_text', 'is_spoiler'])\n",
    "df_reviews.set_index('post_id')\n",
    "df_reviews"
   ]
  },
  {
   "cell_type": "markdown",
   "metadata": {},
   "source": [
    "## tokenize"
   ]
  },
  {
   "cell_type": "code",
   "execution_count": 4,
   "metadata": {},
   "outputs": [
    {
     "name": "stderr",
     "output_type": "stream",
     "text": "Using TensorFlow backend.\nFound 379851 unique tokens.\n"
    },
    {
     "data": {
      "text/html": "<div>\n<style scoped>\n    .dataframe tbody tr th:only-of-type {\n        vertical-align: middle;\n    }\n\n    .dataframe tbody tr th {\n        vertical-align: top;\n    }\n\n    .dataframe thead th {\n        text-align: right;\n    }\n</style>\n<table border=\"1\" class=\"dataframe\">\n  <thead>\n    <tr style=\"text-align: right;\">\n      <th></th>\n      <th>post_id</th>\n      <th>review_text</th>\n      <th>is_spoiler</th>\n      <th>sequence</th>\n    </tr>\n  </thead>\n  <tbody>\n    <tr>\n      <th>0</th>\n      <td>1000000</td>\n      <td>In its Oscar year, Shawshank Redemption (writt...</td>\n      <td>1</td>\n      <td>[7, 80, 401, 242, 2144, 1770, 395, 2, 506, 33,...</td>\n    </tr>\n    <tr>\n      <th>1</th>\n      <td>1000001</td>\n      <td>The Shawshank Redemption is without a doubt on...</td>\n      <td>1</td>\n      <td>[1, 2144, 1770, 6, 197, 3, 737, 28, 4, 1, 82, ...</td>\n    </tr>\n    <tr>\n      <th>2</th>\n      <td>1000002</td>\n      <td>I believe that this film is the best story eve...</td>\n      <td>1</td>\n      <td>[8, 273, 10, 11, 18, 6, 1, 88, 49, 132, 541, 2...</td>\n    </tr>\n    <tr>\n      <th>3</th>\n      <td>1000003</td>\n      <td>**Yes, there are SPOILERS here**This film has ...</td>\n      <td>1</td>\n      <td>[360, 46, 23, 909, 143, 11, 18, 38, 71, 140, 3...</td>\n    </tr>\n    <tr>\n      <th>4</th>\n      <td>1000004</td>\n      <td>At the heart of this extraordinary movie is a ...</td>\n      <td>1</td>\n      <td>[30, 1, 378, 4, 11, 1940, 12, 6, 3, 340, 2, 18...</td>\n    </tr>\n    <tr>\n      <th>...</th>\n      <td>...</td>\n      <td>...</td>\n      <td>...</td>\n      <td>...</td>\n    </tr>\n    <tr>\n      <th>573901</th>\n      <td>1573901</td>\n      <td>Go is wise, fast and pure entertainment. Assem...</td>\n      <td>0</td>\n      <td>[125, 6, 1479, 573, 2, 986, 721, 31, 2184, 857...</td>\n    </tr>\n    <tr>\n      <th>573902</th>\n      <td>1573902</td>\n      <td>Well, what shall I say. this one´s fun at any ...</td>\n      <td>0</td>\n      <td>[61, 42, 3635, 8, 122, 11, 223, 30, 108, 1075,...</td>\n    </tr>\n    <tr>\n      <th>573903</th>\n      <td>1573903</td>\n      <td>Go is the best movie I have ever seen, and I'v...</td>\n      <td>0</td>\n      <td>[125, 6, 1, 88, 12, 8, 25, 132, 115, 2, 226, 1...</td>\n    </tr>\n    <tr>\n      <th>573904</th>\n      <td>1573904</td>\n      <td>Call this 1999 teenage version of Pulp Fiction...</td>\n      <td>0</td>\n      <td>[751, 11, 3702, 1593, 411, 4, 1746, 681, 977, ...</td>\n    </tr>\n    <tr>\n      <th>573905</th>\n      <td>1573905</td>\n      <td>Why was this movie made? No doubt to sucker in...</td>\n      <td>0</td>\n      <td>[135, 13, 11, 12, 103, 64, 737, 5, 5079, 7, 1,...</td>\n    </tr>\n  </tbody>\n</table>\n<p>573906 rows × 4 columns</p>\n</div>",
      "text/plain": "        post_id                                        review_text  \\\n0       1000000  In its Oscar year, Shawshank Redemption (writt...   \n1       1000001  The Shawshank Redemption is without a doubt on...   \n2       1000002  I believe that this film is the best story eve...   \n3       1000003  **Yes, there are SPOILERS here**This film has ...   \n4       1000004  At the heart of this extraordinary movie is a ...   \n...         ...                                                ...   \n573901  1573901  Go is wise, fast and pure entertainment. Assem...   \n573902  1573902  Well, what shall I say. this one´s fun at any ...   \n573903  1573903  Go is the best movie I have ever seen, and I'v...   \n573904  1573904  Call this 1999 teenage version of Pulp Fiction...   \n573905  1573905  Why was this movie made? No doubt to sucker in...   \n\n        is_spoiler                                           sequence  \n0                1  [7, 80, 401, 242, 2144, 1770, 395, 2, 506, 33,...  \n1                1  [1, 2144, 1770, 6, 197, 3, 737, 28, 4, 1, 82, ...  \n2                1  [8, 273, 10, 11, 18, 6, 1, 88, 49, 132, 541, 2...  \n3                1  [360, 46, 23, 909, 143, 11, 18, 38, 71, 140, 3...  \n4                1  [30, 1, 378, 4, 11, 1940, 12, 6, 3, 340, 2, 18...  \n...            ...                                                ...  \n573901           0  [125, 6, 1479, 573, 2, 986, 721, 31, 2184, 857...  \n573902           0  [61, 42, 3635, 8, 122, 11, 223, 30, 108, 1075,...  \n573903           0  [125, 6, 1, 88, 12, 8, 25, 132, 115, 2, 226, 1...  \n573904           0  [751, 11, 3702, 1593, 411, 4, 1746, 681, 977, ...  \n573905           0  [135, 13, 11, 12, 103, 64, 737, 5, 5079, 7, 1,...  \n\n[573906 rows x 4 columns]"
     },
     "execution_count": 4,
     "metadata": {},
     "output_type": "execute_result"
    }
   ],
   "source": [
    "from keras.preprocessing.text import Tokenizer\n",
    "\n",
    "max_word = 10000\n",
    "\n",
    "tokenizer = Tokenizer(num_words=max_word)\n",
    "tokenizer.fit_on_texts(df_reviews['review_text'])\n",
    "sequences = tokenizer.texts_to_sequences(df_reviews['review_text'])\n",
    "\n",
    "word_index = tokenizer.word_index\n",
    "print('Found %s unique tokens.' % len(word_index))\n",
    "\n",
    "df_reviews['sequence'] = sequences\n",
    "df_reviews"
   ]
  },
  {
   "cell_type": "markdown",
   "metadata": {},
   "source": [
    "## Save data"
   ]
  },
  {
   "cell_type": "code",
   "execution_count": 5,
   "metadata": {},
   "outputs": [],
   "source": [
    "from os.path import join\n",
    "savedf = df_reviews.filter(['post_id', 'sequence', 'is_spoiler'])\n",
    "filetosave = {}\n",
    "filetosave['df'] = savedf\n",
    "filetosave['tokenizer'] = tokenizer\n",
    "#hlp.save(filetosave, join('./_imported_data', 'action_preprocessed_'+str(max_word)))\n",
    "hlp.save(filetosave, join('./_imported_data', 'all_genres_preprocessed_'+str(max_word)))"
   ]
  },
  {
   "cell_type": "code",
   "execution_count": null,
   "metadata": {},
   "outputs": [],
   "source": []
  }
 ],
 "metadata": {
  "kernelspec": {
   "display_name": "Python 3.7.5 64-bit ('py_env_deep_learning': conda)",
   "language": "python",
   "name": "python37564bitpyenvdeeplearningcondafa0c33aa414241c993602302cdd0ebff"
  },
  "language_info": {
   "codemirror_mode": {
    "name": "ipython",
    "version": 3
   },
   "file_extension": ".py",
   "mimetype": "text/x-python",
   "name": "python",
   "nbconvert_exporter": "python",
   "pygments_lexer": "ipython3",
   "version": "3.7.5-final"
  }
 },
 "nbformat": 4,
 "nbformat_minor": 4
}