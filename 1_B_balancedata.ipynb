{
 "cells": [
  {
   "cell_type": "code",
   "execution_count": 1,
   "metadata": {},
   "outputs": [],
   "source": [
    "import _utils.helper as hlp\n",
    "import pandas as pd\n",
    "import numpy as np\n",
    "\n",
    "h_params = {}\n",
    "h_params['max_word'] = 30000\n",
    "\n",
    "data_reviews = hlp.load('./imported_data/all_genres_preprocessed_' + str(h_params['max_word']))\n",
    "df_reviews = data_reviews['df']\n",
    "tokenizer = data_reviews['tokenizer']\n",
    "\n",
    "df_tmp_spoiler = df_reviews.loc[df_reviews['is_spoiler'] == 1]\n",
    "df_tmp_notspoiler = df_reviews.loc[df_reviews['is_spoiler'] == 0]"
   ]
  },
  {
   "cell_type": "code",
   "execution_count": 2,
   "metadata": {},
   "outputs": [],
   "source": [
    "df_tmp_notspoiler = df_tmp_notspoiler[:df_tmp_spoiler.is_spoiler.count()]"
   ]
  },
  {
   "cell_type": "code",
   "execution_count": 3,
   "metadata": {},
   "outputs": [
    {
     "data": {
      "text/html": "<div>\n<style scoped>\n    .dataframe tbody tr th:only-of-type {\n        vertical-align: middle;\n    }\n\n    .dataframe tbody tr th {\n        vertical-align: top;\n    }\n\n    .dataframe thead th {\n        text-align: right;\n    }\n</style>\n<table border=\"1\" class=\"dataframe\">\n  <thead>\n    <tr style=\"text-align: right;\">\n      <th></th>\n      <th>post_id</th>\n      <th>sequence</th>\n      <th>is_spoiler</th>\n    </tr>\n  </thead>\n  <tbody>\n    <tr>\n      <th>0</th>\n      <td>1000000</td>\n      <td>[7, 80, 401, 242, 2144, 1770, 395, 2, 506, 33,...</td>\n      <td>1</td>\n    </tr>\n    <tr>\n      <th>1</th>\n      <td>1000001</td>\n      <td>[1, 2144, 1770, 6, 197, 3, 737, 28, 4, 1, 82, ...</td>\n      <td>1</td>\n    </tr>\n    <tr>\n      <th>2</th>\n      <td>1000002</td>\n      <td>[8, 273, 10, 11, 18, 6, 1, 88, 49, 132, 541, 2...</td>\n      <td>1</td>\n    </tr>\n    <tr>\n      <th>3</th>\n      <td>1000003</td>\n      <td>[360, 46, 23, 909, 143, 11, 18, 38, 71, 140, 3...</td>\n      <td>1</td>\n    </tr>\n    <tr>\n      <th>4</th>\n      <td>1000004</td>\n      <td>[30, 1, 378, 4, 11, 1940, 12, 6, 3, 340, 2, 13...</td>\n      <td>1</td>\n    </tr>\n    <tr>\n      <th>...</th>\n      <td>...</td>\n      <td>...</td>\n      <td>...</td>\n    </tr>\n    <tr>\n      <th>573633</th>\n      <td>1573633</td>\n      <td>[231, 52, 6, 747, 197, 5355, 531, 5, 26, 175, ...</td>\n      <td>1</td>\n    </tr>\n    <tr>\n      <th>573634</th>\n      <td>1573634</td>\n      <td>[1, 18, 197, 3, 737, 38, 11138, 4, 1746, 681, ...</td>\n      <td>1</td>\n    </tr>\n    <tr>\n      <th>573635</th>\n      <td>1573635</td>\n      <td>[11, 12, 6, 3, 1487, 825, 30, 295, 5, 26, 1746...</td>\n      <td>1</td>\n    </tr>\n    <tr>\n      <th>573636</th>\n      <td>1573636</td>\n      <td>[8, 206, 11, 12, 220, 3, 242, 773, 360, 9, 528...</td>\n      <td>1</td>\n    </tr>\n    <tr>\n      <th>573637</th>\n      <td>1573637</td>\n      <td>[47, 19, 564, 560, 108, 909, 39, 11, 18, 125, ...</td>\n      <td>1</td>\n    </tr>\n  </tbody>\n</table>\n<p>150924 rows × 3 columns</p>\n</div>",
      "text/plain": "        post_id                                           sequence  is_spoiler\n0       1000000  [7, 80, 401, 242, 2144, 1770, 395, 2, 506, 33,...           1\n1       1000001  [1, 2144, 1770, 6, 197, 3, 737, 28, 4, 1, 82, ...           1\n2       1000002  [8, 273, 10, 11, 18, 6, 1, 88, 49, 132, 541, 2...           1\n3       1000003  [360, 46, 23, 909, 143, 11, 18, 38, 71, 140, 3...           1\n4       1000004  [30, 1, 378, 4, 11, 1940, 12, 6, 3, 340, 2, 13...           1\n...         ...                                                ...         ...\n573633  1573633  [231, 52, 6, 747, 197, 5355, 531, 5, 26, 175, ...           1\n573634  1573634  [1, 18, 197, 3, 737, 38, 11138, 4, 1746, 681, ...           1\n573635  1573635  [11, 12, 6, 3, 1487, 825, 30, 295, 5, 26, 1746...           1\n573636  1573636  [8, 206, 11, 12, 220, 3, 242, 773, 360, 9, 528...           1\n573637  1573637  [47, 19, 564, 560, 108, 909, 39, 11, 18, 125, ...           1\n\n[150924 rows x 3 columns]"
     },
     "execution_count": 3,
     "metadata": {},
     "output_type": "execute_result"
    }
   ],
   "source": [
    "df_tmp_spoiler"
   ]
  },
  {
   "cell_type": "code",
   "execution_count": 4,
   "metadata": {},
   "outputs": [
    {
     "data": {
      "text/html": "<div>\n<style scoped>\n    .dataframe tbody tr th:only-of-type {\n        vertical-align: middle;\n    }\n\n    .dataframe tbody tr th {\n        vertical-align: top;\n    }\n\n    .dataframe thead th {\n        text-align: right;\n    }\n</style>\n<table border=\"1\" class=\"dataframe\">\n  <thead>\n    <tr style=\"text-align: right;\">\n      <th></th>\n      <th>post_id</th>\n      <th>sequence</th>\n      <th>is_spoiler</th>\n    </tr>\n  </thead>\n  <tbody>\n    <tr>\n      <th>956</th>\n      <td>1000956</td>\n      <td>[135, 87, 8, 177, 5, 869, 1, 1382, 21, 1, 2144...</td>\n      <td>0</td>\n    </tr>\n    <tr>\n      <th>957</th>\n      <td>1000957</td>\n      <td>[65, 339, 731, 1497, 164, 15, 721, 5533, 72, 8...</td>\n      <td>0</td>\n    </tr>\n    <tr>\n      <th>958</th>\n      <td>1000958</td>\n      <td>[11, 12, 6, 20, 124, 1822, 339, 585, 9, 38, 3,...</td>\n      <td>0</td>\n    </tr>\n    <tr>\n      <th>959</th>\n      <td>1000959</td>\n      <td>[146, 295, 5, 580, 19, 338, 11, 6, 1, 211, 18,...</td>\n      <td>0</td>\n    </tr>\n    <tr>\n      <th>960</th>\n      <td>1000960</td>\n      <td>[1, 2144, 1770, 6, 395, 2, 506, 33, 1328, 6421...</td>\n      <td>0</td>\n    </tr>\n    <tr>\n      <th>...</th>\n      <td>...</td>\n      <td>...</td>\n      <td>...</td>\n    </tr>\n    <tr>\n      <th>211357</th>\n      <td>1211357</td>\n      <td>[838, 29, 1208, 1191, 2, 20, 3, 41, 1191, 433,...</td>\n      <td>0</td>\n    </tr>\n    <tr>\n      <th>211358</th>\n      <td>1211358</td>\n      <td>[3, 180, 14290, 5, 1, 85, 37, 103, 1, 854, 15,...</td>\n      <td>0</td>\n    </tr>\n    <tr>\n      <th>211359</th>\n      <td>1211359</td>\n      <td>[9, 6, 54, 3, 1084, 34, 71, 28, 4, 1, 575, 12,...</td>\n      <td>0</td>\n    </tr>\n    <tr>\n      <th>211360</th>\n      <td>1211360</td>\n      <td>[8, 71, 50, 281, 1924, 15, 11, 12, 50, 281, 19...</td>\n      <td>0</td>\n    </tr>\n    <tr>\n      <th>211361</th>\n      <td>1211361</td>\n      <td>[7, 22, 6689, 4046, 35, 205, 9032, 2081, 2988,...</td>\n      <td>0</td>\n    </tr>\n  </tbody>\n</table>\n<p>150924 rows × 3 columns</p>\n</div>",
      "text/plain": "        post_id                                           sequence  is_spoiler\n956     1000956  [135, 87, 8, 177, 5, 869, 1, 1382, 21, 1, 2144...           0\n957     1000957  [65, 339, 731, 1497, 164, 15, 721, 5533, 72, 8...           0\n958     1000958  [11, 12, 6, 20, 124, 1822, 339, 585, 9, 38, 3,...           0\n959     1000959  [146, 295, 5, 580, 19, 338, 11, 6, 1, 211, 18,...           0\n960     1000960  [1, 2144, 1770, 6, 395, 2, 506, 33, 1328, 6421...           0\n...         ...                                                ...         ...\n211357  1211357  [838, 29, 1208, 1191, 2, 20, 3, 41, 1191, 433,...           0\n211358  1211358  [3, 180, 14290, 5, 1, 85, 37, 103, 1, 854, 15,...           0\n211359  1211359  [9, 6, 54, 3, 1084, 34, 71, 28, 4, 1, 575, 12,...           0\n211360  1211360  [8, 71, 50, 281, 1924, 15, 11, 12, 50, 281, 19...           0\n211361  1211361  [7, 22, 6689, 4046, 35, 205, 9032, 2081, 2988,...           0\n\n[150924 rows x 3 columns]"
     },
     "execution_count": 4,
     "metadata": {},
     "output_type": "execute_result"
    }
   ],
   "source": [
    "df_tmp_notspoiler"
   ]
  },
  {
   "cell_type": "code",
   "execution_count": 5,
   "metadata": {},
   "outputs": [
    {
     "data": {
      "text/html": "<div>\n<style scoped>\n    .dataframe tbody tr th:only-of-type {\n        vertical-align: middle;\n    }\n\n    .dataframe tbody tr th {\n        vertical-align: top;\n    }\n\n    .dataframe thead th {\n        text-align: right;\n    }\n</style>\n<table border=\"1\" class=\"dataframe\">\n  <thead>\n    <tr style=\"text-align: right;\">\n      <th></th>\n      <th>post_id</th>\n      <th>sequence</th>\n      <th>is_spoiler</th>\n    </tr>\n  </thead>\n  <tbody>\n    <tr>\n      <th>0</th>\n      <td>1000000</td>\n      <td>[7, 80, 401, 242, 2144, 1770, 395, 2, 506, 33,...</td>\n      <td>1</td>\n    </tr>\n    <tr>\n      <th>1</th>\n      <td>1000001</td>\n      <td>[1, 2144, 1770, 6, 197, 3, 737, 28, 4, 1, 82, ...</td>\n      <td>1</td>\n    </tr>\n    <tr>\n      <th>2</th>\n      <td>1000002</td>\n      <td>[8, 273, 10, 11, 18, 6, 1, 88, 49, 132, 541, 2...</td>\n      <td>1</td>\n    </tr>\n    <tr>\n      <th>3</th>\n      <td>1000003</td>\n      <td>[360, 46, 23, 909, 143, 11, 18, 38, 71, 140, 3...</td>\n      <td>1</td>\n    </tr>\n    <tr>\n      <th>4</th>\n      <td>1000004</td>\n      <td>[30, 1, 378, 4, 11, 1940, 12, 6, 3, 340, 2, 13...</td>\n      <td>1</td>\n    </tr>\n    <tr>\n      <th>...</th>\n      <td>...</td>\n      <td>...</td>\n      <td>...</td>\n    </tr>\n    <tr>\n      <th>211357</th>\n      <td>1211357</td>\n      <td>[838, 29, 1208, 1191, 2, 20, 3, 41, 1191, 433,...</td>\n      <td>0</td>\n    </tr>\n    <tr>\n      <th>211358</th>\n      <td>1211358</td>\n      <td>[3, 180, 14290, 5, 1, 85, 37, 103, 1, 854, 15,...</td>\n      <td>0</td>\n    </tr>\n    <tr>\n      <th>211359</th>\n      <td>1211359</td>\n      <td>[9, 6, 54, 3, 1084, 34, 71, 28, 4, 1, 575, 12,...</td>\n      <td>0</td>\n    </tr>\n    <tr>\n      <th>211360</th>\n      <td>1211360</td>\n      <td>[8, 71, 50, 281, 1924, 15, 11, 12, 50, 281, 19...</td>\n      <td>0</td>\n    </tr>\n    <tr>\n      <th>211361</th>\n      <td>1211361</td>\n      <td>[7, 22, 6689, 4046, 35, 205, 9032, 2081, 2988,...</td>\n      <td>0</td>\n    </tr>\n  </tbody>\n</table>\n<p>301848 rows × 3 columns</p>\n</div>",
      "text/plain": "        post_id                                           sequence  is_spoiler\n0       1000000  [7, 80, 401, 242, 2144, 1770, 395, 2, 506, 33,...           1\n1       1000001  [1, 2144, 1770, 6, 197, 3, 737, 28, 4, 1, 82, ...           1\n2       1000002  [8, 273, 10, 11, 18, 6, 1, 88, 49, 132, 541, 2...           1\n3       1000003  [360, 46, 23, 909, 143, 11, 18, 38, 71, 140, 3...           1\n4       1000004  [30, 1, 378, 4, 11, 1940, 12, 6, 3, 340, 2, 13...           1\n...         ...                                                ...         ...\n211357  1211357  [838, 29, 1208, 1191, 2, 20, 3, 41, 1191, 433,...           0\n211358  1211358  [3, 180, 14290, 5, 1, 85, 37, 103, 1, 854, 15,...           0\n211359  1211359  [9, 6, 54, 3, 1084, 34, 71, 28, 4, 1, 575, 12,...           0\n211360  1211360  [8, 71, 50, 281, 1924, 15, 11, 12, 50, 281, 19...           0\n211361  1211361  [7, 22, 6689, 4046, 35, 205, 9032, 2081, 2988,...           0\n\n[301848 rows x 3 columns]"
     },
     "execution_count": 5,
     "metadata": {},
     "output_type": "execute_result"
    }
   ],
   "source": [
    "df_tmp_spoiler.append(df_tmp_notspoiler)"
   ]
  },
  {
   "cell_type": "code",
   "execution_count": 6,
   "metadata": {},
   "outputs": [],
   "source": [
    "from os.path import join\n",
    "savedf = df_tmp_spoiler.append(df_tmp_notspoiler)\n",
    "filetosave = {}\n",
    "filetosave['df'] = savedf\n",
    "filetosave['tokenizer'] = tokenizer\n",
    "\n",
    "hlp.save(filetosave,\n",
    "join('./imported_data', 'all_genres_preprocessed_' + str(h_params['max_word'])+'_balanced'))"
   ]
  },
  {
   "cell_type": "code",
   "execution_count": null,
   "metadata": {},
   "outputs": [],
   "source": []
  }
 ],
 "metadata": {
  "kernelspec": {
   "name": "python37564bitpyenvdeeplearningcondafa0c33aa414241c993602302cdd0ebff",
   "display_name": "Python 3.7.5 64-bit ('py_env_deep_learning': conda)"
  }
 },
 "nbformat": 4,
 "nbformat_minor": 4
}